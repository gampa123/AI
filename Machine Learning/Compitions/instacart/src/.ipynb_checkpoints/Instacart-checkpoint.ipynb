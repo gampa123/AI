{
 "cells": [
  {
   "cell_type": "code",
   "execution_count": 2,
   "metadata": {},
   "outputs": [],
   "source": [
    "import pandas as pd\n",
    "import numpy as np\n"
   ]
  },
  {
   "cell_type": "code",
   "execution_count": 4,
   "metadata": {},
   "outputs": [
    {
     "name": "stdout",
     "output_type": "stream",
     "text": [
      "E:\\Projects\\Courses\\Machine Learning\\Compitions\\instacart\\src\n"
     ]
    }
   ],
   "source": [
    "order_products_train = pd.read_csv(E:\\Projects/Courses/Machine Learning/Compitions/instacart/input/order_products_train.csv')\n",
    "# order_products_prior = pd.read_csv('../input/order_products__prior.csv')\n",
    "# orders = pd.read_csv('../input/orders.csv')\n",
    "# products = pd.read_csv('../input/products.csv')\n",
    "# aisles = pd.read_csv('../input/aisles.csv')\n",
    "# departments = pd.read_csv('../input/departments.csv')"
   ]
  }
 ],
 "metadata": {
  "kernelspec": {
   "display_name": "Python 3",
   "language": "python",
   "name": "python3"
  },
  "language_info": {
   "codemirror_mode": {
    "name": "ipython",
    "version": 3
   },
   "file_extension": ".py",
   "mimetype": "text/x-python",
   "name": "python",
   "nbconvert_exporter": "python",
   "pygments_lexer": "ipython3",
   "version": "3.6.9"
  }
 },
 "nbformat": 4,
 "nbformat_minor": 2
}
